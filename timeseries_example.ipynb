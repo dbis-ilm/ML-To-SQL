{
 "cells": [
  {
   "cell_type": "code",
   "execution_count": null,
   "metadata": {},
   "outputs": [],
   "source": [
    "import time \n",
    "from ml2sql import ML2SQL\n",
    "\n",
    "# PostgreSQL\n",
    "import psycopg2 as pg\n",
    "con = pg.connect(CONNECTIONSTRING)\n",
    "backend = \"postgres\""
   ]
  },
  {
   "cell_type": "code",
   "execution_count": null,
   "metadata": {},
   "outputs": [],
   "source": [
    "def run_query(query, con, should_print = True):\n",
    "    cursor = con.cursor()\n",
    "    cursor.execute(query)\n",
    "    rs = cursor.fetchall()\n",
    "    if not rs:\n",
    "        print(\"Query result is empty\")\n",
    "    colnames = [desc[0] for desc in cursor.description]\n",
    "    if should_print:\n",
    "        print(colnames)\n",
    "        for res in rs:\n",
    "            print(res)\n",
    "    cursor.close()\n",
    "\n",
    "def run_update_query(query, con):\n",
    "    cursor = con.cursor()\n",
    "    cursor.execute(query)\n",
    "    con.commit()\n",
    "    cursor.close()"
   ]
  },
  {
   "cell_type": "markdown",
   "metadata": {},
   "source": [
    "# Prepare an example sinus timeseries"
   ]
  },
  {
   "cell_type": "code",
   "execution_count": null,
   "metadata": {},
   "outputs": [],
   "source": [
    "table_name = \"time_series_raw\"\n",
    "id_col_name = \"id\"\n",
    "val_col_name = \"value\"\n",
    "num_rows = 500\n",
    "\n",
    "q = f\"Drop table if exists {table_name}\"\n",
    "run_update_query(q, con)\n",
    "\n",
    "q = f\"Create table {table_name} ({id_col_name} bigint, {val_col_name} float)\"\n",
    "run_update_query(q, con)\n",
    "\n",
    "values = []\n",
    "for i in range(num_rows):\n",
    "    values.append(f\"({i})\")\n",
    "\n",
    "values_str = \",\".join(values)\n",
    "    \n",
    "q = f\"Insert into {table_name}({id_col_name}) Values {values_str}\"\n",
    "run_update_query(q, con)\n",
    "\n",
    "q = f\"Update {table_name} set {val_col_name}=sin(cast({id_col_name} as float) /25)\"\n",
    "run_update_query(q, con)\n",
    "\n",
    "q = f\"Select * from {table_name}\"\n",
    "#run_query(q, con)"
   ]
  },
  {
   "cell_type": "markdown",
   "metadata": {},
   "source": [
    "# Example model"
   ]
  },
  {
   "cell_type": "code",
   "execution_count": null,
   "metadata": {},
   "outputs": [],
   "source": [
    "def lstm_data_transform(x_data, y_data, num_steps=5):\n",
    "    \"\"\" Changes data to the format for LSTM training \n",
    "for sliding window approach \"\"\"    # Prepare the list for the transformed data\n",
    "    X, y = list(), list()    # Loop of the entire data set\n",
    "    for i in range(x_data.shape[0]):\n",
    "        # compute a new (sliding window) index\n",
    "        end_ix = i + num_steps        # if index is larger than the size of the dataset, we stop\n",
    "        if end_ix >= x_data.shape[0]:\n",
    "            break        # Get a sequence of data for x\n",
    "        seq_X = x_data[i:end_ix]\n",
    "        # Get only the last element of the sequency for y\n",
    "        seq_y = y_data[end_ix]        # Append the list with sequencies\n",
    "        X.append(seq_X)\n",
    "        y.append(seq_y)    # Make final arrays\n",
    "    x_array = np.array(X)\n",
    "    y_array = np.array(y)    \n",
    "    return x_array, y_array\n",
    "\n",
    "import numpy as np\n",
    "\n",
    "x = np.arange(0, 500, 1).reshape(-1, 1)\n",
    "y = np.sin(x/25).reshape(-1, 1)\n",
    "\n",
    "num_steps = 3\n",
    "x_new, y_new = lstm_data_transform(y, y, num_steps)\n",
    "\n",
    "train_ind = int(0.8 * x.shape[0])\n",
    "x_train = x_new[:train_ind]\n",
    "y_train = y_new[:train_ind]\n",
    "x_test = x_new[train_ind:]\n",
    "y_test = y_new[train_ind:]"
   ]
  },
  {
   "cell_type": "code",
   "execution_count": null,
   "metadata": {},
   "outputs": [],
   "source": [
    "import tensorflow as tf\n",
    "from tensorflow import keras\n",
    "from tensorflow.keras import layers\n",
    "\n",
    "lstm_neurons = 32\n",
    "\n",
    "model = keras.Sequential()\n",
    "model.add(layers.LSTM(lstm_neurons, input_shape=(num_steps, 1)))\n",
    "model.add(layers.Dense(units=50, activation='relu'))\n",
    "model.add(layers.Dense(units=1, activation='linear'))\n",
    "adam = keras.optimizers.Adam(learning_rate=0.0001)\n",
    "model.compile(optimizer=adam, loss='mse')\n",
    "model.fit(x_train, y_train, epochs=50, verbose=0)"
   ]
  },
  {
   "cell_type": "code",
   "execution_count": null,
   "metadata": {},
   "outputs": [],
   "source": [
    "import matplotlib.pyplot as plt\n",
    "start_time = time.time()\n",
    "test_predict = model.predict(x_test)\n",
    "print(\"--- %s seconds ---\" % (time.time() - start_time))\n",
    "plt.style.use('ggplot')\n",
    "plt.figure(figsize=(20, 7))\n",
    "plt.plot(y_test, label=\"True value\")\n",
    "plt.plot(test_predict.ravel(), label=\"Predicted value\")\n",
    "plt.legend()"
   ]
  },
  {
   "cell_type": "markdown",
   "metadata": {},
   "source": [
    "# Initialize ml2sql"
   ]
  },
  {
   "cell_type": "code",
   "execution_count": null,
   "metadata": {},
   "outputs": [],
   "source": [
    "translator = ML2SQL(con, backend, model)"
   ]
  },
  {
   "cell_type": "markdown",
   "metadata": {},
   "source": [
    "# Transform table"
   ]
  },
  {
   "cell_type": "code",
   "execution_count": null,
   "metadata": {},
   "outputs": [],
   "source": [
    "ts_table_name = f\"ts_table_transformed\"\n",
    "val_cols = translator.prepare_time_series_table(table_name, id_col_name, val_col_name, 3, ts_table_name)\n",
    "q = f\"Select * from {ts_table_name}\"\n",
    "#run_query(q, con)"
   ]
  },
  {
   "cell_type": "markdown",
   "metadata": {},
   "source": [
    "# Model import"
   ]
  },
  {
   "cell_type": "code",
   "execution_count": null,
   "metadata": {},
   "outputs": [],
   "source": [
    "model_table_name = \"ts_model\"\n",
    "start_time = time.time()\n",
    "queries = translator.model_to_relation(model_table_name)\n",
    "for q in queries:\n",
    "    run_update_query(q, con)\n",
    "print(\"--- %s seconds ---\" % (time.time() - start_time))\n",
    "q = f\"select * from {model_table_name}\"\n",
    "#run_query(q, con)"
   ]
  },
  {
   "cell_type": "markdown",
   "metadata": {},
   "source": [
    "# Model join"
   ]
  },
  {
   "cell_type": "code",
   "execution_count": null,
   "metadata": {},
   "outputs": [],
   "source": [
    "input_query = f\"Select * from {ts_table_name}\"\n",
    "mj_query = translator.model_join_query(input_query, id_col_name, [val_cols], model_table_name, \"prediction\")\n",
    "start_time = time.time()\n",
    "run_query(mj_query, con)\n",
    "print(\"--- %s seconds ---\" % (time.time() - start_time))"
   ]
  },
  {
   "cell_type": "markdown",
   "metadata": {},
   "source": [
    "# Raw Python"
   ]
  },
  {
   "cell_type": "code",
   "execution_count": null,
   "metadata": {},
   "outputs": [],
   "source": [
    "W = model.layers[0].get_weights()[0]\n",
    "U = model.layers[0].get_weights()[1]\n",
    "b = model.layers[0].get_weights()[2]\n",
    "\n",
    "def sigmoid(x):\n",
    "    return 1 / (1 + np.exp(-x))\n",
    "def tanh(x):\n",
    "    return np.tanh(x)\n",
    "\n",
    "def lstm_predict(input):\n",
    "    def _compute_carry_and_output_fused(z, c_tm1):\n",
    "        \"\"\"Computes carry and output using fused kernels.\"\"\"\n",
    "        z0, z1, z2, z3 = z\n",
    "        i = sigmoid(z0)\n",
    "        f = sigmoid(z1)\n",
    "        c = f * c_tm1 + i * tanh(z2)\n",
    "        o = sigmoid(z3)\n",
    "        return c, o\n",
    "    \n",
    "    x = input[0]\n",
    "    h_tm1 = np.zeros(lstm_neurons)\n",
    "    c_tm1 = np.zeros(lstm_neurons)\n",
    "\n",
    "    for t in range(len(x)):\n",
    "        z = np.dot(x[t], W)\n",
    "        z += np.dot(h_tm1, U)\n",
    "        z += b\n",
    "        print(z)\n",
    "        z = tf.split(z, num_or_size_splits=4, axis=0)\n",
    "        c, o = _compute_carry_and_output_fused(z, c_tm1)\n",
    "        h = o * np.tanh(c)\n",
    "        h_tm1 = h\n",
    "        c_tm1 = c\n",
    "        print(\"*********************************\")\n",
    "    return h"
   ]
  },
  {
   "cell_type": "markdown",
   "metadata": {},
   "source": [
    "# Verification and comparison"
   ]
  },
  {
   "cell_type": "code",
   "execution_count": null,
   "metadata": {},
   "outputs": [],
   "source": [
    "input = np.reshape(x_train[6], (1, ) + x_test[0].shape)\n",
    "start_time = time.time()\n",
    "res = lstm_predict(input)\n",
    "# Layer 2\n",
    "res = res.dot(model.layers[1].get_weights()[0]) + model.layers[1].get_weights()[1]\n",
    "res[res<0]=0 # relu\n",
    "# Layer 3\n",
    "res = res.dot(model.layers[2].get_weights()[0]) + model.layers[2].get_weights()[1]\n",
    "print(\"Python:\\t\", res)\n",
    "print(\"--- %s seconds ---\" % (time.time() - start_time))\n",
    "start_time = time.time()\n",
    "print(\"TF: \\t\", model.predict(input)[0])\n",
    "print(\"--- %s seconds ---\" % (time.time() - start_time))\n",
    "\n",
    "start_time = time.time()\n",
    "cursor = con.cursor()\n",
    "cursor.execute(mj_query)\n",
    "rs = cursor.fetchall()\n",
    "print(\"SQL: \\t\", [rs[0][5]])\n",
    "cursor.close()\n",
    "print(\"--- %s seconds ---\" % (time.time() - start_time))"
   ]
  }
 ],
 "metadata": {
  "kernelspec": {
   "display_name": "Python 3",
   "language": "python",
   "name": "python3"
  },
  "language_info": {
   "codemirror_mode": {
    "name": "ipython",
    "version": 3
   },
   "file_extension": ".py",
   "mimetype": "text/x-python",
   "name": "python",
   "nbconvert_exporter": "python",
   "pygments_lexer": "ipython3",
   "version": "3.6.9"
  }
 },
 "nbformat": 4,
 "nbformat_minor": 4
}
